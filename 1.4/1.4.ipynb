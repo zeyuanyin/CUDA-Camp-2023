{
 "cells": [
  {
   "cell_type": "markdown",
   "id": "interracial-bouquet",
   "metadata": {},
   "source": [
    "# CUDA编程模型---初识CUDA\n",
    "\n",
    "### 本次实验将介绍如何：\n",
    "1. 编写第一个Cuda程序\n",
    "2. 利用NVCC进行编译\n",
    "3. 编写Makefile文件\n",
    "4. 线程索引\n",
    "5. 利用nvprof查看程序性能"
   ]
  },
  {
   "cell_type": "markdown",
   "id": "historic-settle",
   "metadata": {},
   "source": [
    "----\n",
    "## 1.编写第一个Cuda程序\n",
    "- 关键词：\"\\_\\_global\\_\\_\" ,  <<<...>>>  ,  .cu\n",
    "\n",
    "在当前的目录下创建一个名为hello_cuda.cu的文件，编写第一个Cuda程序：\n",
    "- 当我们编写一个hello_word程序的时候，我们通常会这样写：\n",
    "```c\n",
    "    #include <stdio.h>\n",
    "\n",
    "    void hello_from_cpu()\n",
    "    {\n",
    "        printf(\"Hello World from the CPU!\\n\");\n",
    "    }\n",
    "\n",
    "    int main(void)\n",
    "    {\n",
    "        hello_from_cpu();\n",
    "        return 0;\n",
    "    }\n",
    "```\n",
    "\n",
    "- 如果我们要把它改成调用GPU的时候，我们需要在void hello_from_cpu()之前加入 \\_\\_global\\_\\_标识符，并且在调用这个函数的时候添加<<<...>>>来设定你需要多少个线程来执行这个函数\n",
    "- 在当前的目录下创建一个名为[hello_cuda.cu](hello_cuda.cu)的文件，更改上述程序，将它改为在GPU上执行的程序，如果遇到麻烦，请参考[result_1.cu](result_1.cu)"
   ]
  },
  {
   "cell_type": "markdown",
   "id": "cloudy-methodology",
   "metadata": {},
   "source": [
    "----\n",
    "## 2.编写完成之后，我们要开始编译并执行程序，在这里我们可以利用nvcc进行编译，指令如下："
   ]
  },
  {
   "cell_type": "code",
   "execution_count": null,
   "id": "underlying-might",
   "metadata": {},
   "outputs": [],
   "source": [
    "!/usr/local/cuda/bin/nvcc hello_cuda.cu -o hello_cuda -run"
   ]
  },
  {
   "cell_type": "markdown",
   "id": "mathematical-shade",
   "metadata": {},
   "source": [
    "----\n",
    "## 3.这里我们也可以利用编写Makefile的方式来进行编译，一个简单的例子可以参考[Makefile](Makefile)"
   ]
  },
  {
   "cell_type": "code",
   "execution_count": null,
   "id": "annual-action",
   "metadata": {},
   "outputs": [],
   "source": [
    "!make"
   ]
  },
  {
   "cell_type": "markdown",
   "id": "standard-pioneer",
   "metadata": {},
   "source": [
    "然后我们就可以得到一个名为hello_cuda的程序，我们开始执行一下"
   ]
  },
  {
   "cell_type": "code",
   "execution_count": null,
   "id": "derived-summer",
   "metadata": {},
   "outputs": [],
   "source": [
    "!./hello_cuda"
   ]
  },
  {
   "cell_type": "markdown",
   "id": "instrumental-mistress",
   "metadata": {},
   "source": [
    "接下来我们尝试多个文件协同编译, 修改[Makefile](Makefile)文件:\n",
    "1. 编译hello_from_gpu.cu文件生成hello_from_gpu.o\n",
    "2. 编译hello_cuda_01.cu和上一步生成的hello_from_gpu.o, 生成./hello_cuda_multi_file\n",
    "\n",
    "如果遇到麻烦, 请参考[Makefile_Multi_file](Makefile_Multi_file)"
   ]
  },
  {
   "cell_type": "code",
   "execution_count": null,
   "id": "satisfied-switch",
   "metadata": {},
   "outputs": [],
   "source": [
    "#此处通过-f来指定您使用的编译文件\n",
    "!make -f Makefile_Multi_file"
   ]
  },
  {
   "cell_type": "code",
   "execution_count": null,
   "id": "pressing-functionality",
   "metadata": {},
   "outputs": [],
   "source": [
    "!./hello_cuda_multi_file"
   ]
  },
  {
   "cell_type": "code",
   "execution_count": null,
   "id": "unknown-newcastle",
   "metadata": {},
   "outputs": [],
   "source": [
    "!make -f Makefile_Multi_file clean"
   ]
  },
  {
   "cell_type": "markdown",
   "id": "obvious-ladder",
   "metadata": {},
   "source": [
    "这时，您已经完成了第一个Cuda程序，接下来修改<<<...>>>里面的信息，查看显示效果，如果遇到麻烦，请参考[hello_cuda_02.cu](hello_cuda_02.cu)"
   ]
  },
  {
   "cell_type": "markdown",
   "id": "lonely-cliff",
   "metadata": {},
   "source": [
    "----\n",
    "## 4.线程索引\n",
    "当我们在讨论GPU和CUDA时，我们一定会考虑如何调用每一个线程，如何定为每一个线程。其实，在CUDA编程模型中，每一个线程都有一个唯一的标识符或者序号，而我们可以通过threadIdx来得到当前的线程在线程块中的序号,通过blockIdx来得到该线程所在的线程块在grid当中的序号，即：\n",
    "\n",
    "* **threadIdx.x** 是执行当前kernel函数的线程在block中的x方向的序号  \n",
    "\n",
    "* **blockIdx.x** 是执行当前kernel函数的线程所在block，在grid中的x方向的序号\n",
    "\n",
    "* **blockDim.x** 是执行当前kernel函数的线程所在的block在x方向包含多少个线程\n",
    "\n",
    "* **gridDim.x** 是执行当前kernel函数的grid在x方向包含多少个block\n",
    "\n",
    "\n",
    "接下来创建[Index_of_thread.cu](Index_of_thread.cu)文件，并在核函数中打印执行该核函数的线程编号和所在的线程块的编号，如果遇到麻烦，请参考[result_2.cu](result_2.cu)\n",
    "\n",
    "创建好了之后，我们开始编译"
   ]
  },
  {
   "cell_type": "code",
   "execution_count": null,
   "id": "periodic-haven",
   "metadata": {},
   "outputs": [],
   "source": [
    "!/usr/local/cuda/bin/nvcc Index_of_thread.cu -o Index_of_thread"
   ]
  },
  {
   "cell_type": "markdown",
   "id": "objective-visitor",
   "metadata": {},
   "source": [
    "执行Index_of_thread"
   ]
  },
  {
   "cell_type": "code",
   "execution_count": null,
   "id": "extraordinary-atmosphere",
   "metadata": {},
   "outputs": [],
   "source": [
    "!./Index_of_thread"
   ]
  },
  {
   "cell_type": "markdown",
   "id": "about-blend",
   "metadata": {},
   "source": [
    "修改`<<<...>>>`中的值，查看执行结果，这里建议分三组：`<<<33,5>>>`, `<<<5,33>>>`,`<<<5,65>>>`, 然后重新编译并执行"
   ]
  },
  {
   "cell_type": "code",
   "execution_count": null,
   "id": "thick-barrier",
   "metadata": {},
   "outputs": [],
   "source": [
    "!/usr/local/cuda/bin/nvcc Index_of_thread.cu -o Index_of_thread"
   ]
  },
  {
   "cell_type": "code",
   "execution_count": null,
   "id": "comfortable-addition",
   "metadata": {},
   "outputs": [],
   "source": [
    "!./Index_of_thread"
   ]
  },
  {
   "cell_type": "markdown",
   "id": "hungarian-confidentiality",
   "metadata": {},
   "source": [
    "----\n",
    "## 5.利用nvprof进行查看程序性能"
   ]
  },
  {
   "cell_type": "code",
   "execution_count": null,
   "id": "retained-movie",
   "metadata": {},
   "outputs": [],
   "source": [
    "!sudo /usr/local/cuda/bin/nvprof  ./Index_of_thread"
   ]
  },
  {
   "cell_type": "markdown",
   "id": "opening-bride",
   "metadata": {},
   "source": [
    "- Profiling result：是GPU（kernel函数）上运行的时间\n",
    "- API calls：是在cpu上测量的程序调用API的时间"
   ]
  },
  {
   "cell_type": "markdown",
   "id": "artistic-grocery",
   "metadata": {},
   "source": [
    "课后作业：\n",
    "1. 利用Makefile规则，尝试编写批量编译工具，比如：同时编译5个cuda程序。\n",
    "2. 利用Makefile规则，尝试加入链接库，比如：加入cuBLAS库编译cuda程序。\n",
    "3. 阅读Cuda sample code，尝试编写程序得到当前GPU的属性参数等。\n",
    "4. 阅读[nvprof](https://docs.nvidia.com/cuda/profiler-users-guide/index.html#nvprof-overview) 说明文档，了解更多nvprof的使用方法，为后续课程中使用做"
   ]
  },
  {
   "cell_type": "code",
   "execution_count": null,
   "id": "sufficient-forestry",
   "metadata": {},
   "outputs": [],
   "source": []
  }
 ],
 "metadata": {
  "kernelspec": {
   "display_name": "Python 3",
   "language": "python",
   "name": "python3"
  },
  "language_info": {
   "codemirror_mode": {
    "name": "ipython",
    "version": 3
   },
   "file_extension": ".py",
   "mimetype": "text/x-python",
   "name": "python",
   "nbconvert_exporter": "python",
   "pygments_lexer": "ipython3",
   "version": "3.6.9"
  }
 },
 "nbformat": 4,
 "nbformat_minor": 5
}
