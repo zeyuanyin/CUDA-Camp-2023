{
 "cells": [
  {
   "cell_type": "markdown",
   "id": "1a8cd608",
   "metadata": {},
   "source": [
    "# CUDA编程模型--- 执行流 和 运行库"
   ]
  },
  {
   "cell_type": "markdown",
   "id": "30c5ee01",
   "metadata": {},
   "source": [
    "#### 1.CUDA流\n",
    "CUDA程序的并行层次主要有两个，一个是核函数内部的并行，一个是核函数的外部的并行。我们之前讨论的都是核函数的内部的并行。核函数外部的并行主要指：\n",
    "- 核函数计算与数据传输之间的并行\n",
    "- 主机计算与数据传输之间的并行\n",
    "- 不同的数据传输之间的并行\n",
    "- 核函数计算与主机计算之间的并行\n",
    "- 不同核函数之间的并行\n",
    "\n",
    "CUDA流表示一个GPU操作队列，该队列中的操作将以添加到流中的先后顺序而依次执行。我们的所有CUDA操作都是在流中进行的，虽然我们可能没发现，但是有我们前面的例子中的指令，内核启动，都是在CUDA流中进行的，只是这种操作是隐式的，所以肯定还有显式的，所以，流分为：\n",
    "- 隐式声明的流，我们叫做空流\n",
    "- 显式声明的流，我们叫做非空流\n",
    "\n",
    "\n",
    "基于流的异步内核启动和数据传输支持以下类型的粗粒度并发：\n",
    "- 重叠主机和设备计算\n",
    "- 重叠主机计算和主机设备数据传输\n",
    "- 重叠主机设备数据传输和设备计算\n",
    "- 并发设备计算（多个设备）\n",
    "\n",
    "接下来，我们就完成下面这个核函数，在两个流并发的实现：\n",
    "```C++\n",
    "__global__ void kernel( int *a, int *b, int *c ) {\n",
    "    int idx = threadIdx.x + blockIdx.x * blockDim.x;\n",
    "    if (idx < N) {\n",
    "        int idx1 = (idx + 1) % 256;\n",
    "        int idx2 = (idx + 2) % 256;\n",
    "        float   as = (a[idx] + a[idx1] + a[idx2]) / 3.0f;\n",
    "        float   bs = (b[idx] + b[idx1] + b[idx2]) / 3.0f;\n",
    "        c[idx] = (as + bs) / 2;\n",
    "    }\n",
    "}\n",
    "```\n",
    "\n",
    "创建[stream.cu](stream.cu)文件，详情请参考[result_1.cu](result_1.cu)\n",
    "\n",
    "编译并执行"
   ]
  },
  {
   "cell_type": "code",
   "execution_count": null,
   "id": "94fb0d0f",
   "metadata": {},
   "outputs": [],
   "source": [
    "!/usr/local/cuda/bin/nvcc  stream.cu -o stream"
   ]
  },
  {
   "cell_type": "code",
   "execution_count": null,
   "id": "96b91068",
   "metadata": {},
   "outputs": [],
   "source": [
    "!./stream"
   ]
  },
  {
   "cell_type": "markdown",
   "id": "5d67c944",
   "metadata": {},
   "source": [
    "利用nvprof测试程序性能"
   ]
  },
  {
   "cell_type": "code",
   "execution_count": null,
   "id": "8fd3fc41",
   "metadata": {},
   "outputs": [],
   "source": [
    "!sudo /usr/local/cuda/bin/nvprof ./stream"
   ]
  },
  {
   "cell_type": "markdown",
   "id": "3303bc15",
   "metadata": {},
   "source": [
    "删除其中一个流，并测试性能，如果遇到麻烦，请参考[result_2.cu](result_2.cu)"
   ]
  },
  {
   "cell_type": "markdown",
   "id": "7e739476",
   "metadata": {},
   "source": [
    "### 2.cuBLAS  \n",
    "cuBLAS 库是基于 NVIDIA®CUDA™ 运行时的 BLAS（基本线性代数子程序）的实现。它允许用户访问 NVIDIA GPU 的计算资源。\n",
    "\n",
    "在[cublas_gemm.cu](cublas_gemm.cu)中使用```cublasDgemm()```函数，如果遇到麻烦，请参考[result_3.cu](result_3.cu)\n",
    "\n",
    "编译, 并执行程序"
   ]
  },
  {
   "cell_type": "code",
   "execution_count": null,
   "id": "7a861bb2",
   "metadata": {},
   "outputs": [],
   "source": [
    "!/usr/local/cuda/bin/nvcc cublas_gemm.cu -lcublas -o cublas_gemm"
   ]
  },
  {
   "cell_type": "code",
   "execution_count": null,
   "id": "681b1e7d",
   "metadata": {},
   "outputs": [],
   "source": [
    "!./cublas_gemm"
   ]
  },
  {
   "cell_type": "markdown",
   "id": "b96b47c5",
   "metadata": {},
   "source": [
    "利用nvprof查看程序性能"
   ]
  },
  {
   "cell_type": "code",
   "execution_count": null,
   "id": "159cdf39",
   "metadata": {},
   "outputs": [],
   "source": [
    "!sudo /usr/local/cuda/bin/nvprof ./cublas_gemm"
   ]
  },
  {
   "cell_type": "markdown",
   "id": "abc600cc",
   "metadata": {},
   "source": [
    "### 3.Thrust\n",
    "\n",
    "Thrust 是基于标准模板库 (STL) 的 CUDA 的 C++ 模板库。 Thrust 允许您通过与 CUDA C 完全互操作的高级接口，以最少的编程工作实现高性能并行应用程序。\n",
    "\n",
    "Thrust 提供了丰富的数据并行原语集合，例如扫描、排序和归约，它们可以组合在一起，以简洁、可读的源代码实现复杂的算法。 通过用这些高级抽象描述您的计算，您可以让 Thrust 自由地自动选择最有效的实现。 因此，Thrust 可用于 CUDA 应用程序的快速原型设计（其中程序员的生产力最为重要），也可用于生产（其中稳健性和绝对性能至关重要）。\n",
    "\n",
    "根据4.2课程中的程序代码[sum.cu](sum.cu), 加入利用Thrust库实现规约求和的方法, 并对比实验结果, 如果遇到困难, 请参考[thrust_sum.cu](thrust_sum.cu)\n"
   ]
  },
  {
   "cell_type": "code",
   "execution_count": null,
   "id": "a634512f",
   "metadata": {},
   "outputs": [],
   "source": [
    "!/usr/local/cuda/bin/nvcc sum.cu -o sum"
   ]
  },
  {
   "cell_type": "code",
   "execution_count": null,
   "id": "1af1d3b3",
   "metadata": {},
   "outputs": [],
   "source": [
    "!./sum"
   ]
  },
  {
   "cell_type": "code",
   "execution_count": null,
   "id": "bd0bcb77",
   "metadata": {},
   "outputs": [],
   "source": []
  }
 ],
 "metadata": {
  "kernelspec": {
   "display_name": "Python 3",
   "language": "python",
   "name": "python3"
  },
  "language_info": {
   "codemirror_mode": {
    "name": "ipython",
    "version": 3
   },
   "file_extension": ".py",
   "mimetype": "text/x-python",
   "name": "python",
   "nbconvert_exporter": "python",
   "pygments_lexer": "ipython3",
   "version": "3.6.9"
  }
 },
 "nbformat": 4,
 "nbformat_minor": 5
}
