{
 "cells": [
  {
   "cell_type": "markdown",
   "id": "547d15af",
   "metadata": {},
   "source": [
    "# CUDA编程模型---矩阵乘法"
   ]
  },
  {
   "cell_type": "markdown",
   "id": "89fd9716",
   "metadata": {},
   "source": [
    "#### 通过向量加法，我们已经学会了如何调用线程。接下来，我们来实践一下，如何利用Cuda处理矩阵。今天的课程将会介绍：\n",
    "1. 二维矩阵的乘法\n",
    "2. 二维矩阵的转置\n",
    "3. 如何分配线程和GPU存储单元"
   ]
  },
  {
   "cell_type": "markdown",
   "id": "03b1deca",
   "metadata": {},
   "source": [
    "### 1.矩阵乘法是科学计算和深度学习领域常见的操作，我们先来看一看CPU代码如何处理矩阵乘法\n",
    "```c\n",
    "void cpu_matrix_mult(int *h_a, int *h_b, int *h_result, int m, int n, int k) \n",
    "{\n",
    "    for (int i = 0; i < m; ++i) \n",
    "    {\n",
    "        for (int j = 0; j < k; ++j) \n",
    "        {\n",
    "            int tmp = 0;\n",
    "            for (int h = 0; h < n; ++h) \n",
    "            {\n",
    "                tmp += h_a[i * n + h] * h_b[h * k + j];\n",
    "            }\n",
    "            h_result[i * k + j] = tmp;\n",
    "        }\n",
    "    }\n",
    "}\n",
    "```\n",
    "这时，我们看到在CPU代码中，需要嵌套三个for循环，也就是说CPU的线程会一个接一个的求结果矩阵中的每一个数值，直到处理完所有数值。那么，我们在GPU中就可以申请很多个线程，每个线程来求结果矩阵中的一个数值，并同时完成\n",
    "\n",
    "![matrix_mul](matrix_mul.png)"
   ]
  },
  {
   "cell_type": "markdown",
   "id": "30cdf7b8",
   "metadata": {},
   "source": [
    "那么，首先我们要得到每一个执行线程，在Grid所有线程中的(x,y)坐标，如下图所示，即(Thread_x, Thread_y)\n",
    "\n",
    "![](matrix_mul2.png)"
   ]
  },
  {
   "cell_type": "markdown",
   "id": "d2884a79",
   "metadata": {},
   "source": [
    "也就是说，以上面的CPU代码为例，我们要让编号为(Thread_x, Thread_y)的线程读取a矩阵中的一行和b矩阵中的一列，然后把对应元素乘积并累加。\n",
    "\n",
    "接下来我们要考虑另一个问题: 如何将二维矩阵的坐标映射到一维.\n",
    "\n",
    "我们知道二维矩阵实际在计算机系统中, 也是以一维连续地址进行存储的, 如下图所示: \n",
    "\n",
    "![](array_2to1.png)\n",
    "\n",
    "那么, 我们假设一个矩阵的宽高分别为: `width` 和`height`, 那么一个坐标为(x,y)的元素, 他在该矩阵的一维索引值就应该是:\n",
    "\n",
    "`y * width + x`\n",
    "\n",
    "**注意: 通常我们定义一个矩阵为m * n, 那么表示它有m行, n列. 对应到上面是, width == n && height == m**\n",
    "\n",
    "明白了上述原理, 我们就可以很轻松的通过CUDA线程中的索引值, 找到需要处理的数据"
   ]
  },
  {
   "cell_type": "markdown",
   "id": "6a1d1d7c",
   "metadata": {},
   "source": [
    "接下来，我们在[matrix_mul.cu](matrix_mul.cu)中完成这一过程，如果遇到麻烦，请参考[result_1.cu](result_1.cu)"
   ]
  },
  {
   "cell_type": "code",
   "execution_count": null,
   "id": "6f77a584",
   "metadata": {},
   "outputs": [],
   "source": [
    "!/usr/local/cuda/bin/nvcc matrix_mul.cu -o matrix_mul"
   ]
  },
  {
   "cell_type": "markdown",
   "id": "fc123192",
   "metadata": {},
   "source": [
    "执行，并查看结果是否正确"
   ]
  },
  {
   "cell_type": "code",
   "execution_count": null,
   "id": "acb76190",
   "metadata": {},
   "outputs": [],
   "source": [
    "!./matrix_mul"
   ]
  },
  {
   "cell_type": "markdown",
   "id": "367d1095",
   "metadata": {},
   "source": [
    "利用nvprof来查看程序性能"
   ]
  },
  {
   "cell_type": "code",
   "execution_count": null,
   "id": "d9286c89",
   "metadata": {},
   "outputs": [],
   "source": [
    "!sudo /usr/local/cuda/bin/nvprof ./matrix_mul"
   ]
  },
  {
   "cell_type": "markdown",
   "id": "e98a402a",
   "metadata": {},
   "source": [
    "修改矩阵大小为1000*1000，并查看效果"
   ]
  },
  {
   "cell_type": "markdown",
   "id": "dbddd98b",
   "metadata": {},
   "source": [
    "### 2.矩阵转置\n",
    "\n",
    "矩阵转置也是在众多科学计算中常用的方法, 我们先来看下CPU如何处理二维矩阵转置:\n",
    "\n",
    "```c\n",
    "void cpu_matrix_transpose(int in[N][M], int out[M][N])\n",
    "{\n",
    "    for(int y = 0; y < N; y++)\n",
    "    {\n",
    "        for(int x = 0; x < M; x++)\n",
    "        {\n",
    "            out[x][y] = in[y][x];\n",
    "        }\n",
    "    }\n",
    "}\n",
    "```\n",
    "\n",
    "接下来, 我们尝试用GPU加速这一过程\n",
    "\n",
    "同学们在[transpose.cu](transpose.cu)中完成这一过程，如果遇到麻烦，请参考[result_2.cu](result_2.cu)\n"
   ]
  },
  {
   "cell_type": "code",
   "execution_count": null,
   "id": "7f782d73",
   "metadata": {},
   "outputs": [],
   "source": [
    "!/usr/local/cuda/bin/nvcc transpose.cu -o transpose"
   ]
  },
  {
   "cell_type": "code",
   "execution_count": null,
   "id": "82a2d429",
   "metadata": {},
   "outputs": [],
   "source": [
    "!./transpose"
   ]
  },
  {
   "cell_type": "markdown",
   "id": "ff261eef",
   "metadata": {},
   "source": [
    "课后作业：\n",
    "1. 当我们能申请的线程数很少，远远不够的时候怎么办？\n",
    "2. 修改[im2gray.cu](im2gray.cu), 完成将RGB图像转化为灰度图的程序. 如果遇到麻烦, 请参考[im2gray_result.cu](im2gray_result.cu)"
   ]
  },
  {
   "cell_type": "code",
   "execution_count": null,
   "id": "fdbe47f5",
   "metadata": {},
   "outputs": [],
   "source": []
  }
 ],
 "metadata": {
  "kernelspec": {
   "display_name": "Python 3",
   "language": "python",
   "name": "python3"
  },
  "language_info": {
   "codemirror_mode": {
    "name": "ipython",
    "version": 3
   },
   "file_extension": ".py",
   "mimetype": "text/x-python",
   "name": "python",
   "nbconvert_exporter": "python",
   "pygments_lexer": "ipython3",
   "version": "3.6.9"
  }
 },
 "nbformat": 4,
 "nbformat_minor": 5
}
