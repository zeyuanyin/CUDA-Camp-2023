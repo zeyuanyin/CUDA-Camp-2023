{
 "cells": [
  {
   "cell_type": "markdown",
   "id": "4f24363a",
   "metadata": {},
   "source": [
    "## CUDA编程模型---错误检测，事件 和 统一内存 "
   ]
  },
  {
   "cell_type": "markdown",
   "id": "dec5d362",
   "metadata": {},
   "source": [
    "#### 通过之前的学习，我们已经初步掌握了利用GPU加速应用程序的方法。接下来，我们针对更多细节加以训练。本次实验课将会介绍：  \n",
    "1. CUDA编程模型中的错误检测\n",
    "2. CUDA编程模型中的事件\n",
    "3. CUDA编程模型中的统一内存"
   ]
  },
  {
   "cell_type": "markdown",
   "id": "3d0f7074",
   "metadata": {},
   "source": [
    "### 1.Cuda编程模型中的错误检测\n",
    "\n",
    "可以查看Cuda error的四个函数：  \n",
    "```C++\n",
    "__host__​__device__​const char* \tcudaGetErrorName ( cudaError_t error )\n",
    "Returns the string representation of an error code enum name.  \n",
    "\n",
    "__host__​__device__​const char* \tcudaGetErrorString ( cudaError_t error )\n",
    "Returns the description string for an error code.  \n",
    "\n",
    "__host__​__device__​cudaError_t \tcudaGetLastError ( void )\n",
    "Returns the last error from a runtime call.  \n",
    "\n",
    "__host__​__device__​cudaError_t \tcudaPeekAtLastError ( void )\n",
    "Returns the last error from a runtime call.  \n",
    "```\n",
    "\n",
    "这里我们采用第二个，并将其封装在error.cuh文件中：\n",
    "```C++\n",
    "#pragma once\n",
    "#include <stdio.h>\n",
    "\n",
    "#define CHECK(call)                                   \\\n",
    "do                                                    \\\n",
    "{                                                     \\\n",
    "    const cudaError_t error_code = call;              \\\n",
    "    if (error_code != cudaSuccess)                    \\\n",
    "    {                                                 \\\n",
    "        printf(\"CUDA Error:\\n\");                      \\\n",
    "        printf(\"    File:       %s\\n\", __FILE__);     \\\n",
    "        printf(\"    Line:       %d\\n\", __LINE__);     \\\n",
    "        printf(\"    Error code: %d\\n\", error_code);   \\\n",
    "        printf(\"    Error text: %s\\n\",                \\\n",
    "            cudaGetErrorString(error_code));          \\\n",
    "        exit(1);                                      \\\n",
    "    }                                                 \\\n",
    "} while (0)\n",
    "```\n",
    "\n",
    "那么我们就可以在代码中这么使用：\n",
    "```C++\n",
    "    CHECK(cudaMemcpy(d_b, h_b, sizeof(int)*n*k, cudaMemcpyHostToDevice));\n",
    "```\n",
    "\n",
    "接下来，大家在之前做的[matrix_mul.cu](matrix_mul.cu)文件，添加CHECK()，如果遇到麻烦，请参考[result_1.cu](result_1.cu)"
   ]
  },
  {
   "cell_type": "code",
   "execution_count": null,
   "id": "ef4241c8",
   "metadata": {},
   "outputs": [],
   "source": [
    "!/usr/local/cuda/bin/nvcc matrix_mul.cu -o matrix_mul"
   ]
  },
  {
   "cell_type": "code",
   "execution_count": null,
   "id": "fa266571",
   "metadata": {},
   "outputs": [],
   "source": [
    "!./matrix_mul"
   ]
  },
  {
   "cell_type": "markdown",
   "id": "a298e3ae",
   "metadata": {},
   "source": [
    "修改\n",
    "```C++\n",
    "CHECK(cudaMemcpy(h_c, d_c, (sizeof(int)*m*k), cudaMemcpyDeviceToHost)); \n",
    "```\n",
    "成\n",
    "```C++\n",
    "CHECK(cudaMemcpy(h_c, d_c, (sizeof(int)*m*k*2), cudaMemcpyDeviceToHost));\n",
    "```\n",
    "\n",
    "再编译一下，并执行查看结果"
   ]
  },
  {
   "cell_type": "code",
   "execution_count": null,
   "id": "29546501",
   "metadata": {},
   "outputs": [],
   "source": [
    "!/usr/local/cuda/bin/nvcc matrix_mul.cu -o matrix_mul"
   ]
  },
  {
   "cell_type": "code",
   "execution_count": null,
   "id": "18663632",
   "metadata": {},
   "outputs": [],
   "source": [
    "!./matrix_mul"
   ]
  },
  {
   "cell_type": "markdown",
   "id": "76fd8e77",
   "metadata": {},
   "source": [
    "这时我们就精准的定位了出现错误的文件，位置，以及错误原因"
   ]
  },
  {
   "cell_type": "markdown",
   "id": "1a23ae7e",
   "metadata": {},
   "source": [
    "### 2. Cuda编程模型中的事件。事件的本质就是一个标记，它与其所在的流内的特定点相关联。可以使用时间来执行以下两个基本任务：\n",
    "- 同步流执行\n",
    "- 监控设备的进展\n",
    "\n",
    "流中的任意点都可以通过API插入事件以及查询事件完成的函数，只有事件所在流中其之前的操作都完成后才能触发事件完成。默认流中设置事件，那么其前面的所有操作都完成时，事件才出发完成。\n",
    "事件就像一个个路标，其本身不执行什么功能，就像我们最原始测试c语言程序的时候插入的无数多个printf一样。\n",
    "\n",
    "创建和销毁： \n",
    "\n",
    "声明:\n",
    "```C++\n",
    "cudaEvent_t event;\n",
    "```\n",
    "创建：\n",
    "```C++\n",
    "cudaError_t cudaEventCreate(cudaEvent_t* event);\n",
    "```\n",
    "销毁：\n",
    "```C++\n",
    "cudaError_t cudaEventDestroy(cudaEvent_t event);\n",
    "```\n",
    "添加事件到当前执行流：\n",
    "```C++\n",
    "cudaError_t cudaEventRecord(cudaEvent_t event, cudaStream_t stream = 0);\n",
    "```\n",
    "等待事件完成，设立flag：\n",
    "```C++\n",
    "cudaError_t cudaEventSynchronize(cudaEvent_t event);//阻塞\n",
    "```\n",
    "当然，我们也可以用它来记录执行的事件：\n",
    "```C++\n",
    "cudaError_t cudaEventElapsedTime(float* ms, cudaEvent_t start, cudaEvent_t stop);\n",
    "```"
   ]
  },
  {
   "cell_type": "markdown",
   "id": "eb6f13de",
   "metadata": {},
   "source": [
    "接下来，我们就修改[matrix_mul.cu](matrix_mul.cu)程序，来测试一下核函数执行的时间，如果遇到麻烦，请参考[result_2.cu](result_2.cu)"
   ]
  },
  {
   "cell_type": "code",
   "execution_count": null,
   "id": "a099563a",
   "metadata": {},
   "outputs": [],
   "source": [
    "!/usr/local/cuda/bin/nvcc result_2.cu -o matrix_mul"
   ]
  },
  {
   "cell_type": "code",
   "execution_count": null,
   "id": "0b8ffa38",
   "metadata": {},
   "outputs": [],
   "source": [
    "!./matrix_mul"
   ]
  },
  {
   "cell_type": "markdown",
   "id": "40eb5f39",
   "metadata": {},
   "source": [
    "### 3.统一内存\n",
    "\n",
    "Jetson系列（包括TX1，TX2，Xavier，NANO等）用的都是SoC芯片，CPU和GPU集成在一个芯片上，自然用的是同一个内存，因此GPU可以直接访问内存上的数据（100多GB/s）而不用受到PCIE的限制（10多GB/s)。\n",
    "\n",
    "因此，在CUDA编程中可以舍弃cudaMemcpy系列函数（相当于在同一个内存上徒劳地复制了一遍），转而使用zero copy或者统一内存unified memory\n",
    "今天的课程将介绍，在NANO上使用Pinned Memory加速程序\n",
    "\n",
    "CUDA应用程序可以使用各种类型的内存缓冲区，例如设备内存，可分页的主机内存，固定内存和统一内存. 即使将这些内存缓冲区类型分配在同一物理设备上，每种类型也具有不同的访问和缓存行为，如下图所示. 选择最合适的内存缓冲区类型对于有效执行应用程序很重要.\n",
    "\n",
    "![memory_type](memory_type.png)\n",
    "\n",
    "接下来，我们就修改[matrix_mul.cu](matrix_mul.cu)文件，去掉```cudaMalloc()``` 和 ```cudaMemcpy()```，而采用统一内存的方法。  \n",
    "如果遇到麻烦，请参考[result_3.cu](result_3.cu)"
   ]
  },
  {
   "cell_type": "markdown",
   "id": "5f5963e5",
   "metadata": {},
   "source": [
    "课后作业:\n",
    "\n",
    "* 尝试利用统一内存的方法, 优化之前完成的向量相加和矩阵转置的示例"
   ]
  },
  {
   "cell_type": "code",
   "execution_count": null,
   "id": "34bcd257",
   "metadata": {},
   "outputs": [],
   "source": []
  }
 ],
 "metadata": {
  "kernelspec": {
   "display_name": "Python 3",
   "language": "python",
   "name": "python3"
  },
  "language_info": {
   "codemirror_mode": {
    "name": "ipython",
    "version": 3
   },
   "file_extension": ".py",
   "mimetype": "text/x-python",
   "name": "python",
   "nbconvert_exporter": "python",
   "pygments_lexer": "ipython3",
   "version": "3.6.9"
  }
 },
 "nbformat": 4,
 "nbformat_minor": 5
}
