{
 "cells": [
  {
   "cell_type": "markdown",
   "id": "ae141f45",
   "metadata": {},
   "source": [
    "# CUDA编程模型---线程组织"
   ]
  },
  {
   "cell_type": "markdown",
   "id": "a94b4455",
   "metadata": {},
   "source": [
    "### 本次课程将介绍以下内容：\n",
    "1. 使用多个线程的核函数\n",
    "2. 使用线程索引\n",
    "3. 多维网络\n",
    "4. 网格与线程块"
   ]
  },
  {
   "cell_type": "markdown",
   "id": "e0febfe0",
   "metadata": {},
   "source": [
    "### 1.那我们如何能够得到一个线程在所有的线程中的索引值？比如：我们申请了4个线程块，每个线程块有8个线程，那么我们就申请了32个线程，那么我需要找到第3个线程块（编号为2的block）里面的第6个线程（编号为5的thread）在所有线程中的索引值怎么办？  \n",
    "这时，我们就需要blockDim 和 gridDim这两个变量：  \n",
    "- gridDim表示一个grid中包含多少个block  \n",
    "- blockDim表示一个block中包含多少个线程  \n",
    "\n",
    "也就是说，在上面的那个例子中，gridDim.x=4, blockDim.x=8  \n",
    "那么，我们要找的第22个线程（编号为21）的唯一索引就应该是，index = blockIdx.x * blockDim.x + threadIdx.x\n",
    "\n",
    "![index_of_thread](index_of_thread.png)"
   ]
  },
  {
   "cell_type": "markdown",
   "id": "3b620826",
   "metadata": {},
   "source": [
    "接下来，我们通过完成一个向量加法的实例来实践一下，我们来实现的cpu代码如下:  \n",
    "```c\n",
    "    #include <math.h>\n",
    "    #include <stdlib.h>\n",
    "    #include <stdio.h>\n",
    "    \n",
    "    void add(const double *x, const double *y, double *z, const int N)\n",
    "    {\n",
    "        for (int n = 0; n < N; ++n)\n",
    "        {\n",
    "            z[n] = x[n] + y[n];\n",
    "        }\n",
    "    }\n",
    "\n",
    "    void check(const double *z, const int N)\n",
    "    {\n",
    "        bool has_error = false;\n",
    "        for (int n = 0; n < N; ++n)\n",
    "        {\n",
    "            if (fabs(z[n] - 3) > (1.0e-10))\n",
    "            {\n",
    "                has_error = true;\n",
    "            }\n",
    "        }\n",
    "        printf(\"%s\\n\", has_error ? \"Errors\" : \"Pass\");\n",
    "    }\n",
    "\n",
    "\n",
    "    int main(void)\n",
    "    {\n",
    "        const int N = 100000000;\n",
    "        const int M = sizeof(double) * N;\n",
    "        double *x = (double*) malloc(M);\n",
    "        double *y = (double*) malloc(M);\n",
    "        double *z = (double*) malloc(M);\n",
    "    \n",
    "        for (int n = 0; n < N; ++n)\n",
    "        {\n",
    "            x[n] = 1;\n",
    "            y[n] = 2;\n",
    "        }\n",
    "\n",
    "        add(x, y, z, N);\n",
    "        check(z, N);\n",
    "    \n",
    "        free(x);\n",
    "        free(y);\n",
    "        free(z);\n",
    "        return 0;\n",
    "    }\n",
    "```"
   ]
  },
  {
   "cell_type": "markdown",
   "id": "af74fb15",
   "metadata": {},
   "source": [
    "为了完成这个程序，我们先要将数据传输给GPU，并在GPU完成计算的时候，将数据从GPU中传输给CPU内存。这时我们就需要考虑如何申请GPU存储单元，以及内存和显存之前的数据传输。在[result_1.cu](result_1.cu)中我们展示了如何完成这一过程的方法：  \n",
    "\n",
    "我们利用cudaMalloc()来进行GPU存储单元的申请，利用cudaMemcpy()来完成数据的传输\n",
    "\n",
    "接下来，我们在[vectorAdd.cu](vectorAdd.cu)文件中完成这一过程，如有困难，请参考[result_1.cu](result_1.cu)\n",
    "\n",
    "编译并执行程序"
   ]
  },
  {
   "cell_type": "code",
   "execution_count": null,
   "id": "cd89fcbc",
   "metadata": {},
   "outputs": [],
   "source": [
    "!/usr/local/cuda/bin/nvcc vectorAdd.cu -o vectorAdd"
   ]
  },
  {
   "cell_type": "code",
   "execution_count": null,
   "id": "ae50917e",
   "metadata": {},
   "outputs": [],
   "source": [
    "!./vectorAdd"
   ]
  },
  {
   "cell_type": "markdown",
   "id": "41633770",
   "metadata": {},
   "source": [
    "利用nvprof查看程序性能"
   ]
  },
  {
   "cell_type": "code",
   "execution_count": null,
   "id": "c64d3fd5",
   "metadata": {},
   "outputs": [],
   "source": [
    "!sudo /usr/local/cuda/bin/nvprof  ./vectorAdd"
   ]
  },
  {
   "cell_type": "markdown",
   "id": "b4769785",
   "metadata": {},
   "source": [
    "课后作业：\n",
    "\n",
    "1. 如果我们设置的线程数过大，比如设置grid_size = (N + block_size - 1) / block_size+10000，会产生什么后果？如何避免这种后果？\n",
    "2. 如果我们的要处理的数据太多，远远超过我们能申请的线程数怎么办？以上面的向量相加为例, 修改代码, 要求:只能使用32个block, 每个block里面有32个线程\n",
    "3. 修改[sobel.cu](sobel.cu)完成Sobel边缘检测kernel优化,如果遇到问题, 请参考[sobel_result.cu](sobel_result.cu)"
   ]
  },
  {
   "cell_type": "code",
   "execution_count": null,
   "id": "13c6b44a",
   "metadata": {},
   "outputs": [],
   "source": [
    "!/usr/local/cuda/bin/nvcc sobel.cu -L /usr/lib/aarch64-linux-gnu/libopencv*.so -I /usr/include/opencv4 -o sobel"
   ]
  },
  {
   "cell_type": "code",
   "execution_count": null,
   "id": "baef1971",
   "metadata": {},
   "outputs": [],
   "source": [
    "!./sobel"
   ]
  },
  {
   "cell_type": "code",
   "execution_count": null,
   "id": "f3d67601",
   "metadata": {},
   "outputs": [],
   "source": []
  }
 ],
 "metadata": {
  "kernelspec": {
   "display_name": "Python 3",
   "language": "python",
   "name": "python3"
  },
  "language_info": {
   "codemirror_mode": {
    "name": "ipython",
    "version": 3
   },
   "file_extension": ".py",
   "mimetype": "text/x-python",
   "name": "python",
   "nbconvert_exporter": "python",
   "pygments_lexer": "ipython3",
   "version": "3.6.9"
  }
 },
 "nbformat": 4,
 "nbformat_minor": 5
}
